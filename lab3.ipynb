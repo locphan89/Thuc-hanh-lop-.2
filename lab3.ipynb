{
 "cells": [
  {
   "cell_type": "code",
   "execution_count": 4,
   "id": "b6dc6355",
   "metadata": {},
   "outputs": [],
   "source": [
    "import numpy as np\n",
    "import cv2\n",
    "import os\n",
    "import imageio.v3 as iio\n",
    "import matplotlib.pyplot as plt\n",
    "from skimage.feature import hog, local_binary_pattern\n",
    "from sklearn.metrics.pairwise import cosine_distances"
   ]
  },
  {
   "cell_type": "code",
   "execution_count": 5,
   "id": "2578be49",
   "metadata": {},
   "outputs": [],
   "source": [
    "# --- Tiền xử lý ảnh --- \n",
    "def preprocess_image(img, img_size=(100, 100)):\n",
    "    if img.dtype == np.uint8 and img.ndim == 2:\n",
    "        img = cv2.cvtColor(img, cv2.COLOR_GRAY2RGB)\n",
    "    if img.ndim == 3:\n",
    "        img = cv2.cvtColor(img, cv2.COLOR_RGB2GRAY)\n",
    "    if img.ndim != 2:\n",
    "        raise ValueError(\"Ảnh không phải 2D sau khi xử lý.\")\n",
    "    img = cv2.equalizeHist(img)\n",
    "    img = cv2.resize(img, img_size)\n",
    "    img = img.astype(np.float32) / 255.0\n",
    "    return img"
   ]
  },
  {
   "cell_type": "markdown",
   "id": "0af07fdf",
   "metadata": {},
   "source": [
    "Assignment 2 (4 điểm)\n",
    "Đọc dữ liệu ảnh training"
   ]
  },
  {
   "cell_type": "code",
   "execution_count": 6,
   "id": "af4f1fb4",
   "metadata": {},
   "outputs": [],
   "source": [
    "# --- Load ảnh train --- \n",
    "def load_images_from_folder(folder_path, img_size=(100, 100)):\n",
    "    print(f\"Đang đọc ảnh từ thư mục: {folder_path}\")\n",
    "    images, labels = [], []\n",
    "    for filename in os.listdir(folder_path):\n",
    "        if filename.endswith('.gif'):\n",
    "            img_path = os.path.join(folder_path, filename)\n",
    "            try:\n",
    "                img = iio.imread(img_path, index=0)\n",
    "                img = preprocess_image(img, img_size)\n",
    "                images.append(img.flatten())\n",
    "                label = filename.split('.')[0]\n",
    "                labels.append(label)\n",
    "                print(f\"Đã load ảnh: {filename}\")\n",
    "            except Exception as e:\n",
    "                print(f\"Lỗi khi đọc ảnh {img_path}: {e}\")\n",
    "    return np.array(images), np.array(labels)"
   ]
  },
  {
   "cell_type": "code",
   "execution_count": 7,
   "id": "bf185679",
   "metadata": {},
   "outputs": [],
   "source": [
    "# --- Load ảnh test --- \n",
    "def load_test_images(folder_path, img_size=(100, 100)):\n",
    "    print(f\"Đang đọc ảnh test từ thư mục: {folder_path}\")\n",
    "    images, labels, filenames = [], [], []\n",
    "    for filename in os.listdir(folder_path):\n",
    "        if filename.endswith('.gif'):\n",
    "            img_path = os.path.join(folder_path, filename)\n",
    "            try:\n",
    "                img = iio.imread(img_path, index=0)\n",
    "                img = preprocess_image(img, img_size)\n",
    "                images.append(img.flatten())\n",
    "                label = filename.split('.')[0]\n",
    "                labels.append(label)\n",
    "                filenames.append(filename)\n",
    "                print(f\"Đã load ảnh test: {filename}\")\n",
    "            except Exception as e:\n",
    "                print(f\"Lỗi khi đọc ảnh test {img_path}: {e}\")\n",
    "    return np.array(images), np.array(labels), filenames\n"
   ]
  },
  {
   "cell_type": "code",
   "execution_count": 8,
   "id": "4be69d0d",
   "metadata": {},
   "outputs": [],
   "source": [
    "# --- Trích xuất đặc trưng HOG --- \n",
    "def extract_hog(imgs, img_size=(100, 100)):\n",
    "    print(\"Đang trích xuất đặc trưng HOG...\")\n",
    "    features = []\n",
    "    for idx, img in enumerate(imgs):\n",
    "        img = img.reshape(img_size)\n",
    "        feature = hog(\n",
    "            img, orientations=9, pixels_per_cell=(8, 8),\n",
    "            cells_per_block=(3, 3), block_norm='L2-Hys',\n",
    "            transform_sqrt=True\n",
    "        )\n",
    "        features.append(feature)\n",
    "    print(\"Hoàn thành trích xuất HOG.\")\n",
    "    return np.array(features)"
   ]
  },
  {
   "cell_type": "code",
   "execution_count": 9,
   "id": "8675fd62",
   "metadata": {},
   "outputs": [],
   "source": [
    "# --- Trích xuất đặc trưng LBP --- \n",
    "def extract_lbp(imgs, img_size=(100, 100), P=8, R=1):\n",
    "    print(\"Đang trích xuất đặc trưng LBP...\")\n",
    "    features = []\n",
    "    for idx, img in enumerate(imgs):\n",
    "        img = img.reshape(img_size)\n",
    "        img_uint8 = (img * 255).clip(0, 255).astype(np.uint8)\n",
    "        lbp = local_binary_pattern(img_uint8, P, R, method='uniform')\n",
    "        hist, _ = np.histogram(lbp.ravel(), bins=np.arange(0, P + 3), range=(0, P + 2))\n",
    "        hist = hist.astype(float)\n",
    "        hist /= (hist.sum() + 1e-6)\n",
    "        features.append(hist)\n",
    "    print(\"Hoàn thành trích xuất LBP.\")\n",
    "    return np.array(features)"
   ]
  },
  {
   "cell_type": "code",
   "execution_count": 10,
   "id": "bad932b7",
   "metadata": {},
   "outputs": [],
   "source": [
    "# --- Chuẩn hóa dữ liệu ---\n",
    "def standardize(X):\n",
    "    print(\"Đang chuẩn hóa dữ liệu...\")\n",
    "    return ((X - X.mean(axis=0)) / (X.std(axis=0) + 1e-6)).astype(np.float32)\n"
   ]
  },
  {
   "cell_type": "markdown",
   "id": "6454deb1",
   "metadata": {},
   "source": [
    "PCA với 20 chiều"
   ]
  },
  {
   "cell_type": "code",
   "execution_count": 11,
   "id": "38de80d1",
   "metadata": {},
   "outputs": [],
   "source": [
    "# --- PCA bằng numpy ---\n",
    "def pca_numpy(X, n_components):\n",
    "    print(f\"Đang thực hiện PCA để giảm xuống {n_components} chiều...\")\n",
    "    mean_vector = X.mean(axis=0)\n",
    "    X_centered = X - mean_vector\n",
    "    cov_matrix = np.cov(X_centered, rowvar=False)\n",
    "    eig_vals, eig_vecs = np.linalg.eigh(cov_matrix)\n",
    "    sorted_indices = np.argsort(eig_vals)[::-1]\n",
    "    top_vectors = eig_vecs[:, sorted_indices[:n_components]]\n",
    "    X_reduced = np.dot(X_centered, top_vectors)\n",
    "    print(\"Hoàn thành PCA.\")\n",
    "    return X_reduced, top_vectors, mean_vector\n"
   ]
  },
  {
   "cell_type": "markdown",
   "id": "f9796c48",
   "metadata": {},
   "source": [
    "Assignment 3 "
   ]
  },
  {
   "cell_type": "code",
   "execution_count": 12,
   "id": "01cff2a9",
   "metadata": {},
   "outputs": [],
   "source": [
    "# --- Phân loại bằng cosine distance ---\n",
    "def classify(X_test, X_train, y_train):\n",
    "    print(\"Đang phân loại ảnh test...\")\n",
    "    distances = cosine_distances(X_test, X_train)\n",
    "    preds_idx = np.argmin(distances, axis=1)\n",
    "    print(\"Hoàn thành phân loại.\")\n",
    "    return y_train[preds_idx]"
   ]
  },
  {
   "cell_type": "markdown",
   "id": "c9286cb0",
   "metadata": {},
   "source": [
    " Visualize eigenfaces (cơ sở không gian chính)"
   ]
  },
  {
   "cell_type": "code",
   "execution_count": 13,
   "id": "ae306c5d",
   "metadata": {},
   "outputs": [],
   "source": [
    "# --- Hiển thị eigenfaces ---\n",
    "def plot_eigenfaces(eigenvectors, n_components=20, img_shape=(100, 100)):\n",
    "    print(f\"Đang vẽ {n_components} eigenfaces...\")\n",
    "    plt.figure(figsize=(15, 6))\n",
    "    for i in range(n_components):\n",
    "        plt.subplot(2, 10, i + 1)\n",
    "        eigenface = eigenvectors[:, i].reshape(img_shape)\n",
    "        plt.imshow(eigenface, cmap='gray')\n",
    "        plt.title(f\"Eigenface {i + 1}\")\n",
    "        plt.axis('off')\n",
    "    plt.tight_layout()\n",
    "    plt.show()\n",
    "    print(\"Hoàn thành vẽ eigenfaces.\")\n"
   ]
  },
  {
   "cell_type": "markdown",
   "id": "5b4945f4",
   "metadata": {},
   "source": [
    "Dự đoán và tính độ chính xác"
   ]
  },
  {
   "cell_type": "code",
   "execution_count": null,
   "id": "f5d9a560",
   "metadata": {},
   "outputs": [
    {
     "name": "stdout",
     "output_type": "stream",
     "text": [
      "Đang đọc ảnh từ thư mục: C:/Users/ADMIN/Downloads/yalefaces/yalefaces\n",
      "Đang đọc ảnh test từ thư mục: C:/Users/ADMIN/Downloads/yalefaces/yalefaces\\test\n",
      "Đang trích xuất đặc trưng HOG...\n",
      "Hoàn thành trích xuất HOG.\n",
      "Đang trích xuất đặc trưng LBP...\n",
      "Hoàn thành trích xuất LBP.\n",
      "Đang trích xuất đặc trưng HOG...\n",
      "Hoàn thành trích xuất HOG.\n",
      "Đang trích xuất đặc trưng LBP...\n",
      "Hoàn thành trích xuất LBP.\n",
      "Đang chuẩn hóa dữ liệu...\n",
      "Đang chuẩn hóa dữ liệu...\n",
      "Đang thực hiện PCA để giảm xuống 20 chiều...\n"
     ]
    },
    {
     "name": "stderr",
     "output_type": "stream",
     "text": [
      "C:\\Users\\ADMIN\\AppData\\Local\\Temp\\ipykernel_19900\\4273975951.py:4: RuntimeWarning: Mean of empty slice.\n",
      "  return ((X - X.mean(axis=0)) / (X.std(axis=0) + 1e-6)).astype(np.float32)\n",
      "C:\\Users\\ADMIN\\AppData\\Local\\Packages\\PythonSoftwareFoundation.Python.3.12_qbz5n2kfra8p0\\LocalCache\\local-packages\\Python312\\site-packages\\numpy\\core\\_methods.py:129: RuntimeWarning: invalid value encountered in scalar divide\n",
      "  ret = ret.dtype.type(ret / rcount)\n",
      "C:\\Users\\ADMIN\\AppData\\Local\\Packages\\PythonSoftwareFoundation.Python.3.12_qbz5n2kfra8p0\\LocalCache\\local-packages\\Python312\\site-packages\\numpy\\core\\_methods.py:206: RuntimeWarning: Degrees of freedom <= 0 for slice\n",
      "  ret = _var(a, axis=axis, dtype=dtype, out=out, ddof=ddof,\n",
      "C:\\Users\\ADMIN\\AppData\\Local\\Packages\\PythonSoftwareFoundation.Python.3.12_qbz5n2kfra8p0\\LocalCache\\local-packages\\Python312\\site-packages\\numpy\\core\\_methods.py:163: RuntimeWarning: invalid value encountered in divide\n",
      "  arrmean = um.true_divide(arrmean, div, out=arrmean,\n",
      "C:\\Users\\ADMIN\\AppData\\Local\\Packages\\PythonSoftwareFoundation.Python.3.12_qbz5n2kfra8p0\\LocalCache\\local-packages\\Python312\\site-packages\\numpy\\core\\_methods.py:198: RuntimeWarning: invalid value encountered in scalar divide\n",
      "  ret = ret.dtype.type(ret / rcount)\n",
      "C:\\Users\\ADMIN\\AppData\\Local\\Packages\\PythonSoftwareFoundation.Python.3.12_qbz5n2kfra8p0\\LocalCache\\local-packages\\Python312\\site-packages\\numpy\\core\\_methods.py:129: RuntimeWarning: invalid value encountered in divide\n",
      "  ret = ret.dtype.type(ret / rcount)\n",
      "C:\\Users\\ADMIN\\AppData\\Local\\Packages\\PythonSoftwareFoundation.Python.3.12_qbz5n2kfra8p0\\LocalCache\\local-packages\\Python312\\site-packages\\numpy\\lib\\function_base.py:520: RuntimeWarning: Mean of empty slice.\n",
      "  avg = a.mean(axis, **keepdims_kw)\n",
      "C:\\Users\\ADMIN\\AppData\\Local\\Packages\\PythonSoftwareFoundation.Python.3.12_qbz5n2kfra8p0\\LocalCache\\local-packages\\Python312\\site-packages\\numpy\\core\\_methods.py:121: RuntimeWarning: invalid value encountered in divide\n",
      "  ret = um.true_divide(\n",
      "C:\\Users\\ADMIN\\AppData\\Local\\Temp\\ipykernel_19900\\2181549136.py:6: RuntimeWarning: Degrees of freedom <= 0 for slice\n",
      "  cov_matrix = np.cov(X_centered, rowvar=False)\n",
      "C:\\Users\\ADMIN\\AppData\\Local\\Packages\\PythonSoftwareFoundation.Python.3.12_qbz5n2kfra8p0\\LocalCache\\local-packages\\Python312\\site-packages\\numpy\\lib\\function_base.py:2748: RuntimeWarning: divide by zero encountered in divide\n",
      "  c *= np.true_divide(1, fact)\n",
      "C:\\Users\\ADMIN\\AppData\\Local\\Packages\\PythonSoftwareFoundation.Python.3.12_qbz5n2kfra8p0\\LocalCache\\local-packages\\Python312\\site-packages\\numpy\\lib\\function_base.py:2748: RuntimeWarning: invalid value encountered in multiply\n",
      "  c *= np.true_divide(1, fact)\n"
     ]
    },
    {
     "ename": "LinAlgError",
     "evalue": "0-dimensional array given. Array must be at least two-dimensional",
     "output_type": "error",
     "traceback": [
      "\u001b[1;31m---------------------------------------------------------------------------\u001b[0m",
      "\u001b[1;31mLinAlgError\u001b[0m                               Traceback (most recent call last)",
      "Cell \u001b[1;32mIn[14], line 24\u001b[0m\n\u001b[0;32m     21\u001b[0m X_test_std \u001b[38;5;241m=\u001b[39m standardize(X_test_features)\n\u001b[0;32m     23\u001b[0m \u001b[38;5;66;03m# --- PCA để phân loại ---\u001b[39;00m\n\u001b[1;32m---> 24\u001b[0m X_train_pca, eigenvectors, mean_vector \u001b[38;5;241m=\u001b[39m \u001b[43mpca_numpy\u001b[49m\u001b[43m(\u001b[49m\u001b[43mX_train_std\u001b[49m\u001b[43m,\u001b[49m\u001b[43m \u001b[49m\u001b[43mn_components\u001b[49m\u001b[38;5;241;43m=\u001b[39;49m\u001b[38;5;241;43m20\u001b[39;49m\u001b[43m)\u001b[49m\n\u001b[0;32m     25\u001b[0m X_test_centered \u001b[38;5;241m=\u001b[39m X_test_std \u001b[38;5;241m-\u001b[39m mean_vector\n\u001b[0;32m     26\u001b[0m X_test_pca \u001b[38;5;241m=\u001b[39m np\u001b[38;5;241m.\u001b[39mdot(X_test_centered, eigenvectors)\n",
      "Cell \u001b[1;32mIn[11], line 7\u001b[0m, in \u001b[0;36mpca_numpy\u001b[1;34m(X, n_components)\u001b[0m\n\u001b[0;32m      5\u001b[0m X_centered \u001b[38;5;241m=\u001b[39m X \u001b[38;5;241m-\u001b[39m mean_vector\n\u001b[0;32m      6\u001b[0m cov_matrix \u001b[38;5;241m=\u001b[39m np\u001b[38;5;241m.\u001b[39mcov(X_centered, rowvar\u001b[38;5;241m=\u001b[39m\u001b[38;5;28;01mFalse\u001b[39;00m)\n\u001b[1;32m----> 7\u001b[0m eig_vals, eig_vecs \u001b[38;5;241m=\u001b[39m \u001b[43mnp\u001b[49m\u001b[38;5;241;43m.\u001b[39;49m\u001b[43mlinalg\u001b[49m\u001b[38;5;241;43m.\u001b[39;49m\u001b[43meigh\u001b[49m\u001b[43m(\u001b[49m\u001b[43mcov_matrix\u001b[49m\u001b[43m)\u001b[49m\n\u001b[0;32m      8\u001b[0m sorted_indices \u001b[38;5;241m=\u001b[39m np\u001b[38;5;241m.\u001b[39margsort(eig_vals)[::\u001b[38;5;241m-\u001b[39m\u001b[38;5;241m1\u001b[39m]\n\u001b[0;32m      9\u001b[0m top_vectors \u001b[38;5;241m=\u001b[39m eig_vecs[:, sorted_indices[:n_components]]\n",
      "File \u001b[1;32m~\\AppData\\Local\\Packages\\PythonSoftwareFoundation.Python.3.12_qbz5n2kfra8p0\\LocalCache\\local-packages\\Python312\\site-packages\\numpy\\linalg\\linalg.py:1475\u001b[0m, in \u001b[0;36meigh\u001b[1;34m(a, UPLO)\u001b[0m\n\u001b[0;32m   1472\u001b[0m     \u001b[38;5;28;01mraise\u001b[39;00m \u001b[38;5;167;01mValueError\u001b[39;00m(\u001b[38;5;124m\"\u001b[39m\u001b[38;5;124mUPLO argument must be \u001b[39m\u001b[38;5;124m'\u001b[39m\u001b[38;5;124mL\u001b[39m\u001b[38;5;124m'\u001b[39m\u001b[38;5;124m or \u001b[39m\u001b[38;5;124m'\u001b[39m\u001b[38;5;124mU\u001b[39m\u001b[38;5;124m'\u001b[39m\u001b[38;5;124m\"\u001b[39m)\n\u001b[0;32m   1474\u001b[0m a, wrap \u001b[38;5;241m=\u001b[39m _makearray(a)\n\u001b[1;32m-> 1475\u001b[0m \u001b[43m_assert_stacked_2d\u001b[49m\u001b[43m(\u001b[49m\u001b[43ma\u001b[49m\u001b[43m)\u001b[49m\n\u001b[0;32m   1476\u001b[0m _assert_stacked_square(a)\n\u001b[0;32m   1477\u001b[0m t, result_t \u001b[38;5;241m=\u001b[39m _commonType(a)\n",
      "File \u001b[1;32m~\\AppData\\Local\\Packages\\PythonSoftwareFoundation.Python.3.12_qbz5n2kfra8p0\\LocalCache\\local-packages\\Python312\\site-packages\\numpy\\linalg\\linalg.py:206\u001b[0m, in \u001b[0;36m_assert_stacked_2d\u001b[1;34m(*arrays)\u001b[0m\n\u001b[0;32m    204\u001b[0m \u001b[38;5;28;01mfor\u001b[39;00m a \u001b[38;5;129;01min\u001b[39;00m arrays:\n\u001b[0;32m    205\u001b[0m     \u001b[38;5;28;01mif\u001b[39;00m a\u001b[38;5;241m.\u001b[39mndim \u001b[38;5;241m<\u001b[39m \u001b[38;5;241m2\u001b[39m:\n\u001b[1;32m--> 206\u001b[0m         \u001b[38;5;28;01mraise\u001b[39;00m LinAlgError(\u001b[38;5;124m'\u001b[39m\u001b[38;5;132;01m%d\u001b[39;00m\u001b[38;5;124m-dimensional array given. Array must be \u001b[39m\u001b[38;5;124m'\u001b[39m\n\u001b[0;32m    207\u001b[0m                 \u001b[38;5;124m'\u001b[39m\u001b[38;5;124mat least two-dimensional\u001b[39m\u001b[38;5;124m'\u001b[39m \u001b[38;5;241m%\u001b[39m a\u001b[38;5;241m.\u001b[39mndim)\n",
      "\u001b[1;31mLinAlgError\u001b[0m: 0-dimensional array given. Array must be at least two-dimensional"
     ]
    }
   ],
   "source": [
    "if __name__ == \"__main__\":\n",
    "    base_path = 'C:/Users/ADMIN/Downloads/yalefaces/yalefaces'\n",
    "    train_path = base_path\n",
    "    test_path = os.path.join(base_path, 'test')\n",
    "\n",
    "    X_train_raw, y_train = load_images_from_folder(train_path)\n",
    "    X_test_raw, y_test, test_filenames = load_test_images(test_path)\n",
    "\n",
    "    print(\"Số lượng ảnh train:\", X_train_raw.shape[0])\n",
    "    print(\"Số lượng ảnh test:\", X_test_raw.shape[0])\n",
    "\n",
    "    X_train_hog = extract_hog(X_train_raw)\n",
    "    X_train_lbp = extract_lbp(X_train_raw)\n",
    "    X_train_features = np.hstack((X_train_hog, X_train_lbp))\n",
    "\n",
    "    X_test_hog = extract_hog(X_test_raw)\n",
    "    X_test_lbp = extract_lbp(X_test_raw)\n",
    "    X_test_features = np.hstack((X_test_hog, X_test_lbp))\n",
    "\n",
    "    X_train_std = standardize(X_train_features)\n",
    "    X_test_std = standardize(X_test_features)\n",
    "\n",
    "    # --- Chỉnh số lượng PCA phù hợp ---\n",
    "    n_components = min(20, X_train_std.shape[0]-1)\n",
    "    X_train_pca, eigenvectors, mean_vector = pca_numpy(X_train_std, n_components=n_components)\n",
    "    X_test_centered = X_test_std - mean_vector\n",
    "    X_test_pca = np.dot(X_test_centered, eigenvectors)\n",
    "\n",
    " \n",
    "\n",
    "\n",
    "    # --- PCA trên ảnh gốc để hiển thị eigenfaces ---\n",
    "    X_train_img_std = standardize(X_train_raw)\n",
    "    _, eigenvectors_img, _ = pca_numpy(X_train_img_std, n_components=20)\n",
    "    plot_eigenfaces(eigenvectors_img, n_components=20, img_shape=(100, 100))\n",
    "\n",
    "    # --- Phân loại ---\n",
    "    predictions = classify(X_test_pca, X_train_pca, y_train)\n"
   ]
  },
  {
   "cell_type": "code",
   "execution_count": null,
   "id": "e273400e",
   "metadata": {},
   "outputs": [],
   "source": [
    "  # --- Accuracy ---\n",
    "accuracy = np.mean(predictions == y_test)\n",
    "print(f\"Độ chính xác nhận diện khuôn mặt: {accuracy * 100:.2f}%\")"
   ]
  }
 ],
 "metadata": {
  "kernelspec": {
   "display_name": "Python 3",
   "language": "python",
   "name": "python3"
  },
  "language_info": {
   "codemirror_mode": {
    "name": "ipython",
    "version": 3
   },
   "file_extension": ".py",
   "mimetype": "text/x-python",
   "name": "python",
   "nbconvert_exporter": "python",
   "pygments_lexer": "ipython3",
   "version": "3.12.10"
  }
 },
 "nbformat": 4,
 "nbformat_minor": 5
}
